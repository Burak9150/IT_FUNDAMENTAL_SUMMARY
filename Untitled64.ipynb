{
  "nbformat": 4,
  "nbformat_minor": 0,
  "metadata": {
    "colab": {
      "name": "Untitled64.ipynb",
      "provenance": [],
      "authorship_tag": "ABX9TyN78lMUFiHRC5+uej/PXd/b",
      "include_colab_link": true
    },
    "kernelspec": {
      "name": "python3",
      "display_name": "Python 3"
    },
    "language_info": {
      "name": "python"
    }
  },
  "cells": [
    {
      "cell_type": "markdown",
      "metadata": {
        "id": "view-in-github",
        "colab_type": "text"
      },
      "source": [
        "<a href=\"https://colab.research.google.com/github/Burak9150/IT_FUNDAMENTAL_SUMMARY/blob/main/Untitled64.ipynb\" target=\"_parent\"><img src=\"https://colab.research.google.com/assets/colab-badge.svg\" alt=\"Open In Colab\"/></a>"
      ]
    },
    {
      "cell_type": "markdown",
      "metadata": {
        "id": "j422pAf9J8OD"
      },
      "source": [
        "n!(faktöriyel n) asal faktörlerine ayrıştırmaktır .\n",
        "\n",
        "Örnekler:\n",
        "\n",
        "n = 12; decomp(12) -> \"2^10 * 3^5 * 5^2 * 7 * 11\"\n",
        "since 12! is divisible by 2 ten times, by 3 five times, by 5 two times and by 7 and 11 only once.\n",
        "\n",
        "n = 22; decomp(22) -> \"2^19 * 3^9 * 5^4 * 7^3 * 11^2 * 13 * 17 * 19\"\n",
        "\n",
        "n = 25; decomp(25) -> 2^22 * 3^10 * 5^6 * 7^3 * 11^2 * 13 * 17 * 19 * 23\n",
        "Asal sayılar artan sırada olmalıdır. Bir asalın üssü 1 olduğunda üssü koymayın.\n",
        "\n",
        "Notlar\n",
        "\n",
        "işlev, asal faktörlerin artan sırasına göre bir dize olarak decomp(n)ayrıştırılmasını döndürmelidir ve vermelidir n!.\n",
        "faktöriyel çok büyük bir sayı olabilir ( 4000! has 12674 digits, n 300'den 4000'e kadar gidebilir).\n",
        "Fortran'da - diğer herhangi bir dilde olduğu gibi - döndürülen dizginin herhangi bir fazladan boşluk içermesine izin verilmez: dynamically allocated character strings.\n"
      ]
    },
    {
      "cell_type": "code",
      "metadata": {
        "id": "rxMAVzDpJJDB"
      },
      "source": [
        "def decomp(n):\n",
        "  l=[]\n",
        "  k=\"\"\n",
        "  for j in range(2,n+1):\n",
        "   for i in range(2,j+1):\n",
        "    while j%i==0:\n",
        "      x=j//i\n",
        "      j=x\n",
        "      l.append(i)\n",
        "    if j==1:\n",
        "          break\n",
        "  t=set(l)\n",
        "  t=sorted(t)\n",
        "  for i in t:\n",
        "    x=l.count(i)\n",
        "    if x>1:\n",
        "     k+=str(i)+\"^\"+str(x)+\" * \"\n",
        "    else:\n",
        "      k+=str(i)+\" * \"\n",
        "  return k.rstrip(\" *\")\n",
        "print(decomp(12))"
      ],
      "execution_count": null,
      "outputs": []
    },
    {
      "cell_type": "code",
      "metadata": {
        "id": "hi_Fu8ZxJX4P"
      },
      "source": [
        "from collections import defaultdict\n",
        "\n",
        "def dec(n):\n",
        "    decomp = defaultdict(lambda:0)\n",
        "    i = 2\n",
        "    while n > 1:\n",
        "        while n % i == 0:\n",
        "            n /= i\n",
        "            decomp[i] += 1\n",
        "        i += 1\n",
        "    return decomp\n",
        "            \n",
        "\n",
        "def decomp(n):\n",
        "    ans = defaultdict(lambda:0)\n",
        "    for i in range(2, n + 1):\n",
        "        for key, value in dec(i).items():\n",
        "            ans[key] += value\n",
        "    return ' * '.join('{}^{}'.format(x, y) if y > 1 else str(x) for x, y in sorted(ans.items()))"
      ],
      "execution_count": null,
      "outputs": []
    },
    {
      "cell_type": "code",
      "metadata": {
        "id": "hOQxsdKhJXwD"
      },
      "source": [
        "def decomp(n):\n",
        "    f = {}\n",
        "    for  i in range(2, n+1):\n",
        "        for j in range(2, int(i**0.5)+1):\n",
        "            while i%j==0:\n",
        "                i = i//j\n",
        "                if j in f: f[j] += 1\n",
        "                else: f[j] = 1\n",
        "        if i!=1:\n",
        "            if i in f: f[i] += 1\n",
        "            else: f[i] = 1\n",
        "        \n",
        "    return ' * '.join([\"{}^{}\".format(i, f[i]) if f[i]>1 else str(i) for i in sorted(f)])"
      ],
      "execution_count": null,
      "outputs": []
    },
    {
      "cell_type": "code",
      "metadata": {
        "id": "KGy9D2Y-JXmb"
      },
      "source": [
        "is_prime = lambda n: n == 2 or n % 2 and all(n % d for d in range(3, int(n ** .5) + 1, 2))\n",
        "order = lambda n, k: n and n // k + order(n // k, k)\n",
        "decomp = lambda n: ' * '.join(str(p) if n < 2 * p else '%d^%d' % (p, order(n, p)) for p in range(2, n+1) if is_prime(p))"
      ],
      "execution_count": null,
      "outputs": []
    }
  ]
}